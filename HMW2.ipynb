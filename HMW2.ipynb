{
  "nbformat": 4,
  "nbformat_minor": 0,
  "metadata": {
    "colab": {
      "name": "HMW2.ipynb",
      "provenance": [],
      "collapsed_sections": [],
      "authorship_tag": "ABX9TyP9R7BpVeyJ2IbBejQBTFIh",
      "include_colab_link": true
    },
    "kernelspec": {
      "name": "python3",
      "display_name": "Python 3"
    },
    "language_info": {
      "name": "python"
    }
  },
  "cells": [
    {
      "cell_type": "markdown",
      "metadata": {
        "id": "view-in-github",
        "colab_type": "text"
      },
      "source": [
        "<a href=\"https://colab.research.google.com/github/ele9996/NetworkDynamicsAndLearningLabs/blob/main/HMW2.ipynb\" target=\"_parent\"><img src=\"https://colab.research.google.com/assets/colab-badge.svg\" alt=\"Open In Colab\"/></a>"
      ]
    },
    {
      "cell_type": "code",
      "metadata": {
        "id": "hQPL8_JzDden"
      },
      "source": [
        "import numpy as np \n",
        "import networkx as nx\n",
        "import matplotlib.pyplot as plt\n",
        "np.random.seed(seed=99)"
      ],
      "execution_count": 119,
      "outputs": []
    },
    {
      "cell_type": "code",
      "metadata": {
        "id": "hS-zD_rYHERS"
      },
      "source": [
        "\n",
        "Lambda = [\n",
        "[0, 2/5, 1/5, 0, 0 ],\n",
        "[0, 0, 3/4, 1/4, 0 ],\n",
        "[1/2, 0, 0, 1/2, 0],\n",
        "[0, 0, 1/3, 0, 2/3],\n",
        "[0, 1/3, 0, 1/3, 0]]\n",
        "w = np.sum(Lambda, axis=1)\n",
        "w_star = np.max(w)\n",
        "Q = Lambda/w_star \n",
        "Q = Q + np.diag(np.ones(len(w))-np.sum(Q,axis=1))\n"
      ],
      "execution_count": 120,
      "outputs": []
    },
    {
      "cell_type": "markdown",
      "metadata": {
        "id": "KPGe-cIEiDkv"
      },
      "source": [
        "#Exercise 1"
      ]
    },
    {
      "cell_type": "markdown",
      "metadata": {
        "id": "bvbW5szeiOCm"
      },
      "source": [
        "##a"
      ]
    },
    {
      "cell_type": "code",
      "metadata": {
        "id": "WuqukCQge2xy"
      },
      "source": [
        "#global clock--> wstar\n",
        "def MySim(steps,start,finish):\n",
        "\n",
        "  Q_cum = np.cumsum(Q, axis=1)\n",
        "  time_last = np.zeros(steps, dtype=float)\n",
        "\n",
        "\n",
        "\n",
        "  #I do 1000 steps and I exit only when I found my node\n",
        "  for i in range(steps):\n",
        "    #we start in position 1 \n",
        "    pos = []\n",
        "    pos.insert(0, start) \n",
        "    #array containing transition times from a state to another\n",
        "    trans_times = []\n",
        "    trans_times.insert(0,0)\n",
        "    \n",
        "    n=0\n",
        "    t_next = -np.log(np.random.rand())/w_star\n",
        "\n",
        "    while True:\n",
        "        pos.append(np.argwhere(Q_cum[pos[n]] > np.random.rand())[0][0])\n",
        "        trans_times.append(trans_times[n] + t_next)\n",
        "        n += 1\n",
        "        if pos[n] == finish:\n",
        "          break\n",
        "\n",
        "    #since transition times accumulates I only take last times    \n",
        "    time_last[i] = trans_times[-1]\n",
        "    #I take last time for each step\n",
        "\n",
        "  #and I compute the average\n",
        "  avg=np.average(time_last)\n",
        "  return avg\n"
      ],
      "execution_count": 121,
      "outputs": []
    },
    {
      "cell_type": "code",
      "metadata": {
        "colab": {
          "base_uri": "https://localhost:8080/"
        },
        "id": "s9fy5CE-ckl3",
        "outputId": "4f6fbc0a-4774-496e-b009-26afcbf45fac"
      },
      "source": [
        "avg_time=MySim(1000,1,1)\n",
        "print(\"Average return time: {}\".format(avg_time))"
      ],
      "execution_count": 122,
      "outputs": [
        {
          "output_type": "stream",
          "text": [
            "Average return time: 6.775402521314269\n"
          ],
          "name": "stdout"
        }
      ]
    },
    {
      "cell_type": "markdown",
      "metadata": {
        "id": "Ue8V5ZKdZEbr"
      },
      "source": [
        "##b"
      ]
    },
    {
      "cell_type": "code",
      "metadata": {
        "colab": {
          "base_uri": "https://localhost:8080/"
        },
        "id": "jwVpI3VCZD5t",
        "outputId": "f28f6a43-ed44-4797-fdce-b318bbaec268"
      },
      "source": [
        "\n",
        "D = np.diag(w)\n",
        "P = np.linalg.inv(D) @ Lambda\n",
        "\n",
        "\n",
        "n_nodes = len(P)\n",
        "S = [1]\n",
        "R = [node for node in range(n_nodes) if node not in S]\n",
        "hatP = P[np.ix_(R, R)]\n",
        "hatw=w[np.ix_(R)]\n",
        "hatx = np.linalg.solve((np.identity(len(R))-hatP),np.ones(len(R))/hatw)\n",
        "\n",
        "\n",
        "hitting_s = np.zeros(n_nodes)\n",
        "hitting_s[R] = hatx\n",
        "\n",
        "ret_time=1/w[1]+np.dot(P[1,:],hitting_s)\n",
        "\n",
        "print(\"Returning time:{}\".format(ret_time))"
      ],
      "execution_count": 123,
      "outputs": [
        {
          "output_type": "stream",
          "text": [
            "Returning time:6.749999999999998\n"
          ],
          "name": "stdout"
        }
      ]
    },
    {
      "cell_type": "markdown",
      "metadata": {
        "id": "oi2pQLIhcbht"
      },
      "source": [
        "##c"
      ]
    },
    {
      "cell_type": "code",
      "metadata": {
        "id": "u5NqPRTNcwpY",
        "colab": {
          "base_uri": "https://localhost:8080/"
        },
        "outputId": "b0db37b5-d85a-4723-e261-50fe55a98cdd"
      },
      "source": [
        "avg_time=MySim(1000,0,4)\n",
        "print(\"Hitting time: {}\".format(avg_time))"
      ],
      "execution_count": 124,
      "outputs": [
        {
          "output_type": "stream",
          "text": [
            "Hitting time: 8.179110200314215\n"
          ],
          "name": "stdout"
        }
      ]
    },
    {
      "cell_type": "markdown",
      "metadata": {
        "id": "lrU1UlS9eHDK"
      },
      "source": [
        "##d"
      ]
    },
    {
      "cell_type": "code",
      "metadata": {
        "colab": {
          "base_uri": "https://localhost:8080/"
        },
        "id": "MiOCi4YieFyg",
        "outputId": "a73700a0-a3a5-4c05-d6f0-11b89c4521cb"
      },
      "source": [
        "n_nodes = len(P)\n",
        "\n",
        "# Define the set S and the remaining nodes R\n",
        "S = [4]\n",
        "# same as R=np.setdiff1d(np.array(range(n)),S)\n",
        "R = [node for node in range(n_nodes) if node not in S]\n",
        "\n",
        "# Restrict P to R x R to obtain hat(P)\n",
        "hatP = P[np.ix_(R, R)]\n",
        "hatw = w[np.ix_(R)]\n",
        "# solve the linear system to obtain hat(x)\n",
        "# np.linalg.solve solves a linear matrix equation given\n",
        "# the coefficient matrix and the dependent variable values\n",
        "hatx = np.linalg.solve(np.identity(len(R))-hatP,np.ones(len(R))/hatw)\n",
        "# define the hitting times to the set S\n",
        "# hitting time is 0 if the starting node is in S\n",
        "hitting_s = np.zeros(n_nodes)\n",
        "# hitting time is hat(x) for nodes in R\n",
        "hitting_s[R] = hatx\n",
        "\n",
        "print(\"Theoretical hitting time: {}\".format(hitting_s[[0]]))"
      ],
      "execution_count": 125,
      "outputs": [
        {
          "output_type": "stream",
          "text": [
            "Theoretical hitting time: [8.78571429]\n"
          ],
          "name": "stdout"
        }
      ]
    },
    {
      "cell_type": "markdown",
      "metadata": {
        "id": "mRyIGxlJiHNG"
      },
      "source": [
        "#Exercise 2"
      ]
    },
    {
      "cell_type": "markdown",
      "metadata": {
        "id": "Lnmnk4jGiTev"
      },
      "source": [
        "##a. Particle perspective"
      ]
    },
    {
      "cell_type": "markdown",
      "metadata": {
        "id": "pTY3puZQyDNR"
      },
      "source": [
        "###2a"
      ]
    },
    {
      "cell_type": "code",
      "metadata": {
        "colab": {
          "base_uri": "https://localhost:8080/"
        },
        "id": "tJqs6beGdgGY",
        "outputId": "abfe4c50-1a6e-4214-eab4-534dcb4677c6"
      },
      "source": [
        "result=np.zeros(100)\n",
        "\n",
        "#you compute 1000 simulation for each of the 100 particles and then do the avg\n",
        "for particle in range(100):\n",
        "  \n",
        "  result[particle]=MySim(1000,1,1)\n",
        "\n",
        "print(\"Average time:{}\".format(np.average(result)))\n"
      ],
      "execution_count": 126,
      "outputs": [
        {
          "output_type": "stream",
          "text": [
            "Average time:6.707578169164087\n"
          ],
          "name": "stdout"
        }
      ]
    },
    {
      "cell_type": "markdown",
      "metadata": {
        "id": "h7J3OtgOyHPd"
      },
      "source": [
        "###2b"
      ]
    },
    {
      "cell_type": "code",
      "metadata": {
        "id": "CckhNG_oyJb8",
        "colab": {
          "base_uri": "https://localhost:8080/"
        },
        "outputId": "9dcadc05-5d96-4a43-be96-6ce48fea19a5"
      },
      "source": [
        "#An alternative way is to again have a system-wide Poisson clock with rate\n",
        "#100. Then, at each tick we randomly, and proportionally to the number of particles in the different\n",
        "#nodes, select a node from which we should move a particle. Then a particle from the selected node\n",
        "#will move according to the transition probability matrix P.\n",
        "w_star=100\n",
        "time_units=60 #steps\n",
        "n_particles=100\n",
        "\n",
        "\n",
        "def PathFinder(steps,start):\n",
        "\n",
        "  Q_cum = np.cumsum(Q, axis=1)\n",
        "  time_last = np.zeros(steps, dtype=float)\n",
        "\n",
        "   \n",
        "  pos = []\n",
        "  pos.insert(0, start) \n",
        "\n",
        "  trans_times = []\n",
        "  trans_times.insert(0,0)\n",
        "  t_next = -np.log(np.random.rand())/w_star\n",
        "  n=0\n",
        "\n",
        "  while len(trans_times) < steps:\n",
        "\n",
        "      pos.append(np.argwhere(Q_cum[pos[n]] > np.random.rand())[0][0])\n",
        "      trans_times.append(trans_times[n] + t_next)\n",
        "      n += 1\n",
        "  \n",
        "  return pos\n",
        "\n",
        "node_in_time = np.zeros(shape=(n_particles,time_units))\n",
        "occurr = np.zeros(shape=(n_nodes,time_units))\n",
        "\n",
        "\n",
        "for part in range(n_particles):\n",
        "  pos=PathFinder(time_units,0)\n",
        "  node_in_time[part, :]=pos\n",
        "\n",
        "\n",
        "\n",
        "for i in range(time_units):\n",
        "\n",
        "  for val in node_in_time[: , i]:\n",
        "    val=int(val)\n",
        "    #print(val)\n",
        "    occurr[val][i] += 1\n",
        "\n",
        "\n",
        "\n",
        "\n",
        "\n",
        "#Average number of particles at the end of the simulation in different nodes\n",
        "\n",
        "print(\"Average number of particles that touches each node at the end of the simulation:\")\n",
        "print(\"{}\".format(np.average(occurr,axis=1)))\n",
        "\n",
        "\n",
        "\n",
        "\n"
      ],
      "execution_count": 127,
      "outputs": [
        {
          "output_type": "stream",
          "text": [
            "Average number of particles that touches each node at the end of the simulation:\n",
            "[21.05       14.98333333 22.01666667 21.33333333 20.61666667]\n"
          ],
          "name": "stdout"
        }
      ]
    },
    {
      "cell_type": "code",
      "metadata": {
        "colab": {
          "base_uri": "https://localhost:8080/",
          "height": 446
        },
        "id": "i6ZXiOcV5KhF",
        "outputId": "0776794e-0923-4724-9e1e-4ed05382dc0f"
      },
      "source": [
        "fig = plt.figure(1, figsize=(7,7))\n",
        "ax = plt.subplot(111)\n",
        "\n",
        "for node in range(n_nodes):\n",
        "    trajectory = occurr[node,:]\n",
        "    ax.plot(trajectory, label='node {0:d}'.format(node))\n",
        "    \n",
        "ax.legend()\n",
        "\n"
      ],
      "execution_count": 128,
      "outputs": [
        {
          "output_type": "execute_result",
          "data": {
            "text/plain": [
              "<matplotlib.legend.Legend at 0x7f5ceac81b50>"
            ]
          },
          "metadata": {
            "tags": []
          },
          "execution_count": 128
        },
        {
          "output_type": "display_data",
          "data": {
            "image/png": "[encoded data removed]",
            "text/plain": [
              "<Figure size 504x504 with 1 Axes>"
            ]
          },
          "metadata": {
            "tags": [],
            "needs_background": "light"
          }
        }
      ]
    },
    {
      "cell_type": "markdown",
      "metadata": {
        "id": "wyCbcgXHGYcp"
      },
      "source": [
        "#Exercise 3"
      ]
    }
  ]
}