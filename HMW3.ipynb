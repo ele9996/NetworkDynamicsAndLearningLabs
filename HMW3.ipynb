{
  "nbformat": 4,
  "nbformat_minor": 0,
  "metadata": {
    "colab": {
      "name": "HMW3.ipynb",
      "provenance": [],
      "authorship_tag": "ABX9TyMC30Sh5bGtgFA8BoiWhUX2",
      "include_colab_link": true
    },
    "kernelspec": {
      "name": "python3",
      "display_name": "Python 3"
    },
    "language_info": {
      "name": "python"
    }
  },
  "cells": [
    {
      "cell_type": "markdown",
      "metadata": {
        "id": "view-in-github",
        "colab_type": "text"
      },
      "source": [
        "<a href=\"https://colab.research.google.com/github/ele9996/NetworkDynamicsAndLearningLabs/blob/main/HMW3.ipynb\" target=\"_parent\"><img src=\"https://colab.research.google.com/assets/colab-badge.svg\" alt=\"Open In Colab\"/></a>"
      ]
    },
    {
      "cell_type": "code",
      "metadata": {
        "id": "MNXgftGFjIh3"
      },
      "source": [
        "import numpy as np \n",
        "import networkx as nx\n",
        "import matplotlib.pyplot as plt"
      ],
      "execution_count": 1,
      "outputs": []
    },
    {
      "cell_type": "markdown",
      "metadata": {
        "id": "ETiJs5yajshi"
      },
      "source": [
        "#Problem 1"
      ]
    },
    {
      "cell_type": "markdown",
      "metadata": {
        "id": "mDi2ZnSMjxSq"
      },
      "source": [
        "##1.1\n",
        "\n",
        "Plot the graph and veriables definition"
      ]
    },
    {
      "cell_type": "code",
      "metadata": {
        "id": "bNAmSg7ujgEa"
      },
      "source": [
        "beta=0.3\n",
        "p=0.7\n",
        "nodes=500\n",
        "k=4\n",
        "weeks=15\n",
        "\n",
        "G = nx.DiGraph()\n",
        "nx.add_cycle(G, range(nodes))\n",
        "for n in range(nodes):\n",
        "    other = n+3\n",
        "    if other>=nodes:\n",
        "        other-=nodes\n",
        "    G.add_edge(other,n)\n",
        "\n",
        "#nx.draw_circular(G, with_labels=True)\n",
        "\n",
        "\n"
      ],
      "execution_count": 15,
      "outputs": []
    }
  ]
}