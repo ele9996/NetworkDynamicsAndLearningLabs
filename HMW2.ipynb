{
  "nbformat": 4,
  "nbformat_minor": 0,
  "metadata": {
    "colab": {
      "name": "HMW2.ipynb",
      "provenance": [],
      "collapsed_sections": [],
      "authorship_tag": "ABX9TyMikT+SWunnpU6R9/7CtEX5",
      "include_colab_link": true
    },
    "kernelspec": {
      "name": "python3",
      "display_name": "Python 3"
    },
    "language_info": {
      "name": "python"
    }
  },
  "cells": [
    {
      "cell_type": "markdown",
      "metadata": {
        "id": "view-in-github",
        "colab_type": "text"
      },
      "source": [
        "<a href=\"https://colab.research.google.com/github/ele9996/NetworkDynamicsAndLearningLabs/blob/main/HMW2.ipynb\" target=\"_parent\"><img src=\"https://colab.research.google.com/assets/colab-badge.svg\" alt=\"Open In Colab\"/></a>"
      ]
    },
    {
      "cell_type": "code",
      "metadata": {
        "id": "hQPL8_JzDden"
      },
      "source": [
        "import numpy as np \n",
        "import networkx as nx\n",
        "import matplotlib.pyplot as plt\n",
        "np.random.seed(seed=99)"
      ],
      "execution_count": 17,
      "outputs": []
    },
    {
      "cell_type": "code",
      "metadata": {
        "id": "hS-zD_rYHERS"
      },
      "source": [
        "\n",
        "Lambda = [\n",
        "[0, 2/5, 1/5, 0, 0 ],\n",
        "[0, 0, 3/4, 1/4, 0 ],\n",
        "[1/2, 0, 0, 1/2, 0],\n",
        "[0, 0, 1/3, 0, 2/3],\n",
        "[0, 1/3, 0, 1/3, 0]]\n",
        "w = np.sum(Lambda, axis=1)\n",
        "w_star = np.max(w)\n",
        "Q = Lambda/w_star \n",
        "Q = Q + np.diag(np.ones(len(w))-np.sum(Q,axis=1))\n"
      ],
      "execution_count": 18,
      "outputs": []
    },
    {
      "cell_type": "markdown",
      "metadata": {
        "id": "KPGe-cIEiDkv"
      },
      "source": [
        "#Exercise 1"
      ]
    },
    {
      "cell_type": "markdown",
      "metadata": {
        "id": "bvbW5szeiOCm"
      },
      "source": [
        "##a"
      ]
    },
    {
      "cell_type": "code",
      "metadata": {
        "id": "WuqukCQge2xy"
      },
      "source": [
        "#global clock--> wstar\n",
        "def MySim(steps,start,finish):\n",
        "\n",
        "  Q_cum = np.cumsum(Q, axis=1)\n",
        "  time_last = np.zeros(steps, dtype=float)\n",
        "\n",
        "\n",
        "\n",
        "  #I do 1000 steps and I exit only when I found my node\n",
        "  for i in range(steps):\n",
        "    #we start in position 1 \n",
        "    pos = []\n",
        "    pos.insert(0, start) \n",
        "    #array containing transition times from a state to another\n",
        "    trans_times = []\n",
        "    trans_times.insert(0,0)\n",
        "    \n",
        "    n=0\n",
        "    t_next = -np.log(np.random.rand())/w_star\n",
        "\n",
        "    while True:\n",
        "        pos.append(np.argwhere(Q_cum[pos[n]] > np.random.rand())[0][0])\n",
        "        trans_times.append(trans_times[n] + t_next)\n",
        "        n += 1\n",
        "        if pos[n] == finish:\n",
        "          break\n",
        "\n",
        "    #since transition times accumulates I only take last times    \n",
        "    time_last[i] = trans_times[-1]\n",
        "    #I take last time for each step\n",
        "\n",
        "  #and I compute the average\n",
        "  avg=np.average(time_last)\n",
        "  return avg\n"
      ],
      "execution_count": 19,
      "outputs": []
    },
    {
      "cell_type": "code",
      "metadata": {
        "colab": {
          "base_uri": "https://localhost:8080/"
        },
        "id": "s9fy5CE-ckl3",
        "outputId": "f9802c17-c91f-4933-ddff-41117dfeaf93"
      },
      "source": [
        "avg_time=MySim(1000,1,1)\n",
        "print(\"Average return time: {}\".format(avg_time))"
      ],
      "execution_count": 20,
      "outputs": [
        {
          "output_type": "stream",
          "text": [
            "Average return time: 6.738973642535987\n"
          ],
          "name": "stdout"
        }
      ]
    },
    {
      "cell_type": "markdown",
      "metadata": {
        "id": "Ue8V5ZKdZEbr"
      },
      "source": [
        "##b"
      ]
    },
    {
      "cell_type": "code",
      "metadata": {
        "colab": {
          "base_uri": "https://localhost:8080/"
        },
        "id": "jwVpI3VCZD5t",
        "outputId": "bfeaab87-7173-49d9-ea2f-f09e37512bc4"
      },
      "source": [
        "\n",
        "D = np.diag(w)\n",
        "P = np.linalg.inv(D) @ Lambda\n",
        "\n",
        "\n",
        "n_nodes = len(P)\n",
        "S = [1]\n",
        "R = [node for node in range(n_nodes) if node not in S]\n",
        "hatP = P[np.ix_(R, R)]\n",
        "hatw=w[np.ix_(R)]\n",
        "hatx = np.linalg.solve((np.identity(len(R))-hatP),np.ones(len(R))/hatw)\n",
        "\n",
        "\n",
        "hitting_s = np.zeros(n_nodes)\n",
        "hitting_s[R] = hatx\n",
        "\n",
        "ret_time=1/w[1]+np.dot(P[1,:],hitting_s)\n",
        "\n",
        "print(\"Returning time:{}\".format(ret_time))"
      ],
      "execution_count": 21,
      "outputs": [
        {
          "output_type": "stream",
          "text": [
            "Returning time:6.749999999999998\n"
          ],
          "name": "stdout"
        }
      ]
    },
    {
      "cell_type": "markdown",
      "metadata": {
        "id": "oi2pQLIhcbht"
      },
      "source": [
        "##c"
      ]
    },
    {
      "cell_type": "code",
      "metadata": {
        "id": "u5NqPRTNcwpY",
        "colab": {
          "base_uri": "https://localhost:8080/"
        },
        "outputId": "77a2570e-ad02-4866-a6f5-b4210ced5656"
      },
      "source": [
        "avg_time=MySim(1000,0,4)\n",
        "print(\"Hitting time: {}\".format(avg_time))"
      ],
      "execution_count": 22,
      "outputs": [
        {
          "output_type": "stream",
          "text": [
            "Hitting time: 8.114122607905058\n"
          ],
          "name": "stdout"
        }
      ]
    },
    {
      "cell_type": "markdown",
      "metadata": {
        "id": "lrU1UlS9eHDK"
      },
      "source": [
        "##d"
      ]
    },
    {
      "cell_type": "code",
      "metadata": {
        "colab": {
          "base_uri": "https://localhost:8080/"
        },
        "id": "MiOCi4YieFyg",
        "outputId": "808131ac-43cb-4ac4-ccf0-aeb4f3264242"
      },
      "source": [
        "n_nodes = len(P)\n",
        "\n",
        "# Define the set S and the remaining nodes R\n",
        "S = [4]\n",
        "# same as R=np.setdiff1d(np.array(range(n)),S)\n",
        "R = [node for node in range(n_nodes) if node not in S]\n",
        "\n",
        "# Restrict P to R x R to obtain hat(P)\n",
        "hatP = P[np.ix_(R, R)]\n",
        "hatw = w[np.ix_(R)]\n",
        "# solve the linear system to obtain hat(x)\n",
        "# np.linalg.solve solves a linear matrix equation given\n",
        "# the coefficient matrix and the dependent variable values\n",
        "hatx = np.linalg.solve(np.identity(len(R))-hatP,np.ones(len(R))/hatw)\n",
        "# define the hitting times to the set S\n",
        "# hitting time is 0 if the starting node is in S\n",
        "hitting_s = np.zeros(n_nodes)\n",
        "# hitting time is hat(x) for nodes in R\n",
        "hitting_s[R] = hatx\n",
        "\n",
        "print(\"Theoretical hitting time: {}\".format(hitting_s[[0]]))"
      ],
      "execution_count": 23,
      "outputs": [
        {
          "output_type": "stream",
          "text": [
            "Theoretical hitting time: [8.78571429]\n"
          ],
          "name": "stdout"
        }
      ]
    },
    {
      "cell_type": "markdown",
      "metadata": {
        "id": "mRyIGxlJiHNG"
      },
      "source": [
        "#Exercise 2"
      ]
    },
    {
      "cell_type": "markdown",
      "metadata": {
        "id": "Lnmnk4jGiTev"
      },
      "source": [
        "##a. Particle perspective"
      ]
    },
    {
      "cell_type": "markdown",
      "metadata": {
        "id": "pTY3puZQyDNR"
      },
      "source": [
        "###2a"
      ]
    },
    {
      "cell_type": "code",
      "metadata": {
        "colab": {
          "base_uri": "https://localhost:8080/"
        },
        "id": "tJqs6beGdgGY",
        "outputId": "8ba6935b-36f6-4a66-f4f9-95075173c7ce"
      },
      "source": [
        "result=np.zeros(100)\n",
        "\n",
        "#you compute 1000 simulation for each of the 100 particles and then do the avg\n",
        "for particle in range(100):\n",
        "  \n",
        "  result[particle]=MySim(1000,1,1)\n",
        "\n",
        "print(\"Average time:{}\".format(np.average(result)))\n"
      ],
      "execution_count": 24,
      "outputs": [
        {
          "output_type": "stream",
          "text": [
            "Average time:6.717380925247137\n"
          ],
          "name": "stdout"
        }
      ]
    },
    {
      "cell_type": "markdown",
      "metadata": {
        "id": "h7J3OtgOyHPd"
      },
      "source": [
        "###2b"
      ]
    },
    {
      "cell_type": "code",
      "metadata": {
        "id": "CckhNG_oyJb8",
        "colab": {
          "base_uri": "https://localhost:8080/",
          "height": 239
        },
        "outputId": "dff00835-ee7c-45ee-8946-d487f8ab8a3f"
      },
      "source": [
        "#rate=w_star\n",
        "w_star=100\n",
        "time_units=60 #steps\n",
        "n_particles=100\n",
        "\n",
        "\n",
        "def PathFinder(steps,start,rate):\n",
        "\n",
        "  w_star=rate\n",
        "  Q_cum = np.cumsum(Q, axis=1)\n",
        "  time_last = np.zeros(steps, dtype=float)\n",
        "\n",
        "   \n",
        "  pos = []\n",
        "  pos.insert(0, start) \n",
        "\n",
        "  trans_times = []\n",
        "  trans_times.insert(0,0)\n",
        "  t_next = -np.log(np.random.rand())/w_star\n",
        "  n=0\n",
        "\n",
        "  while trans_times[-1] < steps:\n",
        "      #len(trans_times)\n",
        "      pos.append(np.argwhere(Q_cum[pos[n]] > np.random.rand())[0][0])\n",
        "      trans_times.append(trans_times[n] + t_next)\n",
        "      n += 1\n",
        "  \n",
        "  return pos, len(trans_times)\n",
        "\n",
        "\n",
        "\n",
        "#node_in_time = np.zeros(shape=(n_particles,---))\n",
        "#occurr = np.zeros(shape=(n_nodes,time_units))\n",
        "\n",
        "\n",
        "for part in range(n_particles):\n",
        "  pos, trans_time_lenght=PathFinder(time_units,0,w_star)\n",
        "  if part ==0:\n",
        "    node_in_time = np.zeros(shape=(n_particles,trans_time_lenght))\n",
        "    occurr = np.zeros(shape=(n_nodes,trans_time_lenght)) \n",
        "\n",
        "  node_in_time[part, :]=pos\n",
        "\n",
        "\n",
        "\n",
        "for i in range(time_units):\n",
        "\n",
        "  for val in node_in_time[: , i]:\n",
        "    val=int(val)\n",
        "    #print(val)\n",
        "    occurr[val][i] += 1\n",
        "\n",
        "\n",
        "\n",
        "\n",
        "\n",
        "#Average number of particles at the end of the simulation in different nodes\n",
        "\n",
        "print(\"Average number of particles that touches each node at the end of the simulation:\")\n",
        "print(\"{}\".format(np.average(occurr,axis=1)))\n",
        "\n",
        "\n",
        "\n",
        "\n"
      ],
      "execution_count": 25,
      "outputs": [
        {
          "output_type": "error",
          "ename": "ValueError",
          "evalue": "ignored",
          "traceback": [
            "\u001b[0;31m---------------------------------------------------------------------------\u001b[0m",
            "\u001b[0;31mValueError\u001b[0m                                Traceback (most recent call last)",
            "\u001b[0;32m<ipython-input-25-476fe3edbd22>\u001b[0m in \u001b[0;36m<module>\u001b[0;34m()\u001b[0m\n\u001b[1;32m     40\u001b[0m     \u001b[0moccurr\u001b[0m \u001b[0;34m=\u001b[0m \u001b[0mnp\u001b[0m\u001b[0;34m.\u001b[0m\u001b[0mzeros\u001b[0m\u001b[0;34m(\u001b[0m\u001b[0mshape\u001b[0m\u001b[0;34m=\u001b[0m\u001b[0;34m(\u001b[0m\u001b[0mn_nodes\u001b[0m\u001b[0;34m,\u001b[0m\u001b[0mtrans_time_lenght\u001b[0m\u001b[0;34m)\u001b[0m\u001b[0;34m)\u001b[0m\u001b[0;34m\u001b[0m\u001b[0;34m\u001b[0m\u001b[0m\n\u001b[1;32m     41\u001b[0m \u001b[0;34m\u001b[0m\u001b[0m\n\u001b[0;32m---> 42\u001b[0;31m   \u001b[0mnode_in_time\u001b[0m\u001b[0;34m[\u001b[0m\u001b[0mpart\u001b[0m\u001b[0;34m,\u001b[0m \u001b[0;34m:\u001b[0m\u001b[0;34m]\u001b[0m\u001b[0;34m=\u001b[0m\u001b[0mpos\u001b[0m\u001b[0;34m\u001b[0m\u001b[0;34m\u001b[0m\u001b[0m\n\u001b[0m\u001b[1;32m     43\u001b[0m \u001b[0;34m\u001b[0m\u001b[0m\n\u001b[1;32m     44\u001b[0m \u001b[0;34m\u001b[0m\u001b[0m\n",
            "\u001b[0;31mValueError\u001b[0m: cannot copy sequence with size 40642 to array axis with dimension 5801"
          ]
        }
      ]
    },
    {
      "cell_type": "code",
      "metadata": {
        "id": "i6ZXiOcV5KhF"
      },
      "source": [
        "fig = plt.figure(1, figsize=(7,7))\n",
        "ax = plt.subplot(111)\n",
        "\n",
        "for node in range(n_nodes):\n",
        "    trajectory = occurr[node,:]\n",
        "    ax.plot(trajectory, label='node {0:d}'.format(node))\n",
        "    \n",
        "ax.legend()\n",
        "\n"
      ],
      "execution_count": null,
      "outputs": []
    },
    {
      "cell_type": "markdown",
      "metadata": {
        "id": "wyCbcgXHGYcp"
      },
      "source": [
        "#Exercise 3"
      ]
    },
    {
      "cell_type": "code",
      "metadata": {
        "id": "H9czGcCwL6Cb"
      },
      "source": [
        "\n",
        "Lambda_open = [\n",
        "[0, 2/3, 1/3, 0, 0 ],\n",
        "[0, 0, 1/4, 1/4, 2/4 ],\n",
        "[0, 0, 0, 1, 0],\n",
        "[0, 0, 0, 0, 1],\n",
        "[0, 0, 0, 0, 0]]\n",
        "\n",
        "w = np.sum(Lambda_open, axis=1)\n",
        "w_star = np.max(w)\n",
        "Q = Lambda_open/w_star\n",
        "Q = Q + np.diag( np.ones(len(w)) - np.sum(Q, axis=1) )\n",
        "\n"
      ],
      "execution_count": 26,
      "outputs": []
    },
    {
      "cell_type": "markdown",
      "metadata": {
        "id": "8imuNk9xJBrt"
      },
      "source": [
        "##3a"
      ]
    },
    {
      "cell_type": "code",
      "metadata": {
        "id": "0FFtFZxoJERV"
      },
      "source": [
        ""
      ],
      "execution_count": null,
      "outputs": []
    },
    {
      "cell_type": "code",
      "metadata": {
        "id": "Q2-H1zYyI48W"
      },
      "source": [
        "def MySim(rate,time_units):\n",
        "\n",
        " \n",
        "  transition_times = []\n",
        "  transition_times.append(0)\n",
        "  t_next=transition_times[0]\n",
        "  occurrencies = np.zeros(5)\n",
        "  distr_nodes_time = np.array([[0, 0, 0, 0, 0]])\n",
        "  \n",
        "  Q_cum = np.cumsum(Q, axis=1)\n",
        "  \n",
        "  while t_next < time_units:\n",
        "    \n",
        "    temp = np.zeros(6)\n",
        "    num_part = rate\n",
        "    temp[5] = rate\n",
        "    num_part += np.sum(occurrencies)\n",
        "\n",
        "    for i in range(5):\n",
        "      temp[i] = occurrencies[i]\n",
        "\n",
        "    particles_cum = np.cumsum(temp)/num_part\n",
        "    start = np.argwhere(particles_cum > np.random.rand())[0][0]\n",
        "    t_next = transition_times[-1] - np.log(np.random.rand()) /num_part\n",
        " \n",
        "\n",
        "    if start == 5:\n",
        "      occurrencies[0] += 1\n",
        "    \n",
        "    else:\n",
        "      if start == 4:\n",
        "        occurrencies[4] -= 1\n",
        "    \n",
        "      else:\n",
        "        end = np.argwhere(Q_cum[start] > np.random.rand())[0][0]\n",
        "        occurrencies[start] -= 1\n",
        "        occurrencies[end] += 1\n",
        "        transition_times.append(t_next)\n",
        "        distr_nodes_time = np.concatenate((distr_nodes_time, [occurrencies]), axis = 0)\n",
        "\n",
        "  return transition_times,distr_nodes_time"
      ],
      "execution_count": 36,
      "outputs": []
    },
    {
      "cell_type": "code",
      "metadata": {
        "colab": {
          "base_uri": "https://localhost:8080/",
          "height": 320
        },
        "id": "K8daoaV72u8E",
        "outputId": "2f052302-aa3a-40df-8082-d497ce91de35"
      },
      "source": [
        "rate_enter=1\n",
        "time_units=60\n",
        "node_number=5\n",
        "transition_times, distr_nodes_time  = MySim(rate_enter,time_units)\n",
        "\n",
        "fig, ax = plt.subplots(figsize=(10,5))\n",
        "labels={0:'o',1:'a',2:'b',3:'c',4:'d'}\n",
        "\n",
        "for i in range(node_number):\n",
        "  ax.plot(transition_times, distr_nodes_time[:, i], label=labels[i])\n",
        "\n",
        "ax.legend()\n",
        "plt.show()"
      ],
      "execution_count": 37,
      "outputs": [
        {
          "output_type": "display_data",
          "data": {
            "image/png": "[encoded data removed]",
            "text/plain": [
              "<Figure size 720x360 with 1 Axes>"
            ]
          },
          "metadata": {
            "tags": [],
            "needs_background": "light"
          }
        }
      ]
    },
    {
      "cell_type": "markdown",
      "metadata": {
        "id": "Zi3oOv_iLMoe"
      },
      "source": [
        "##3b"
      ]
    },
    {
      "cell_type": "code",
      "metadata": {
        "id": "-Yv-KgaPMN_s"
      },
      "source": [
        "def get_starting_node(rate):\n",
        "  total_rate = rate\n",
        "  # 1 dummy variable for entry in node 'o'\n",
        "  n_nodes = np.zeros(6)\n",
        "  n_nodes[5] = rate\n",
        "  for i in range(5):\n",
        "    n_nodes[i] = 1\n",
        "    total_rate += 1\n",
        "  particles_cum = np.cumsum(n_nodes)/total_rate\n",
        "  start_node = np.argwhere(particles_cum > np.random.rand())[0][0]\n",
        "  return start_node, total_rate\n",
        "\n",
        "\n"
      ],
      "execution_count": null,
      "outputs": []
    },
    {
      "cell_type": "code",
      "metadata": {
        "id": "uncHcwhnLWrL"
      },
      "source": [
        "\n",
        "\n"
      ],
      "execution_count": null,
      "outputs": []
    },
    {
      "cell_type": "code",
      "metadata": {
        "id": "rzjTU4bj5opW"
      },
      "source": [
        "def simulate(time_units, rate):\n",
        "  node_particles = np.zeros(5)\n",
        "  transition_times = []\n",
        "  transition_times.append(0)\n",
        "  hist_nodes = np.array([[0, 0, 0, 0, 0]])\n",
        "  Q_cum = np.cumsum(Q, axis=1)\n",
        "  while True:\n",
        "    \n",
        "    start_node, total_rate = get_starting_node(rate)\n",
        "    t_next = transition_times[-1] - np.log(np.random.rand()) / total_rate\n",
        "    #print(total_rate)\n",
        "    # check dummy variable\n",
        "\n",
        "    if start_node == 5:\n",
        "      node_particles[0] += 1\n",
        "    \n",
        "    elif node_particles[start_node] == 0:\n",
        "      # Do nothing if I don't have any particle\n",
        "      # Check after if start_nod == 5 but before start_node == 4.\n",
        "      pass\n",
        "    elif start_node == 4:\n",
        "      node_particles[4] -= 1\n",
        "    else:\n",
        "      end_node = np.argwhere(Q_cum[start_node] > np.random.rand())[0][0]\n",
        "      node_particles[start_node] -= 1\n",
        "      node_particles[end_node] += 1\n",
        "      #print(hist_nodes)\n",
        "    \n",
        "    transition_times.append(t_next)\n",
        "    hist_nodes = np.concatenate((hist_nodes, [node_particles]), axis = 0)\n",
        "    if t_next > time_units:\n",
        "      break\n",
        "    \n",
        "  return hist_nodes, transition_times\n"
      ],
      "execution_count": null,
      "outputs": []
    },
    {
      "cell_type": "code",
      "metadata": {
        "id": "ErhFdeXqTOWD"
      },
      "source": [
        "hist_nodes, transition_times = simulate(60, 1)\n",
        "fig, ax = plt.subplots(figsize=(10,5))\n",
        "labels={0:'o',1:'a',2:'b',3:'c',4:'d'}\n",
        "for i in range(5):\n",
        "  ax.plot(transition_times, hist_nodes[:, i], label=labels[i])\n",
        "ax.legend()\n",
        "plt.xlabel('Time')\n",
        "plt.ylabel('Number of particles')\n",
        "plt.savefig('3_b_1.png')\n",
        "plt.show()"
      ],
      "execution_count": null,
      "outputs": []
    }
  ]
}